{
 "cells": [
  {
   "cell_type": "code",
   "execution_count": 1,
   "id": "b3f96818-ccc4-4e4b-b40b-76c05d6d21dc",
   "metadata": {},
   "outputs": [
    {
     "name": "stderr",
     "output_type": "stream",
     "text": [
      "/Users/smorrin/anaconda3/lib/python3.11/site-packages/torchvision/io/image.py:13: UserWarning: Failed to load image Python extension: 'dlopen(/Users/smorrin/anaconda3/lib/python3.11/site-packages/torchvision/image.so, 0x0006): Symbol not found: __ZN3c1017RegisterOperatorsD1Ev\n",
      "  Referenced from: <CFED5F8E-EC3F-36FD-AAA3-2C6C7F8D3DD9> /Users/smorrin/anaconda3/lib/python3.11/site-packages/torchvision/image.so\n",
      "  Expected in:     <E459C462-F863-3A5A-AC9F-FD77B14BE845> /Users/smorrin/anaconda3/lib/python3.11/site-packages/torch/lib/libtorch_cpu.dylib'If you don't plan on using image functionality from `torchvision.io`, you can ignore this warning. Otherwise, there might be something wrong with your environment. Did you have `libjpeg` or `libpng` installed before building `torchvision` from source?\n",
      "  warn(\n"
     ]
    }
   ],
   "source": [
    "from fastai.vision.all import *"
   ]
  },
  {
   "cell_type": "code",
   "execution_count": 2,
   "id": "40d6c709-fa6f-4e40-b6bf-184c7629322e",
   "metadata": {},
   "outputs": [],
   "source": [
    "path = Path.cwd() / \"sentinel_2/tif/\""
   ]
  },
  {
   "cell_type": "code",
   "execution_count": 18,
   "id": "40542a5d-e2be-4282-988e-172d30984d3f",
   "metadata": {},
   "outputs": [],
   "source": [
    "block = DataBlock(\n",
    "    blocks=(ImageBlock, CategoryBlock),\n",
    "    splitter=RandomSplitter(),\n",
    "    get_y=parent_label,\n",
    "    get_items=get_image_files\n",
    ")"
   ]
  },
  {
   "cell_type": "code",
   "execution_count": null,
   "id": "cd76a85d-9069-4fdf-b19c-d3cf61c531bd",
   "metadata": {},
   "outputs": [],
   "source": [
    "broken_imgs = verify_images(get_image_files(path))"
   ]
  }
 ],
 "metadata": {
  "kernelspec": {
   "display_name": "Python 3 (ipykernel)",
   "language": "python",
   "name": "python3"
  },
  "language_info": {
   "codemirror_mode": {
    "name": "ipython",
    "version": 3
   },
   "file_extension": ".py",
   "mimetype": "text/x-python",
   "name": "python",
   "nbconvert_exporter": "python",
   "pygments_lexer": "ipython3",
   "version": "3.11.5"
  }
 },
 "nbformat": 4,
 "nbformat_minor": 5
}
