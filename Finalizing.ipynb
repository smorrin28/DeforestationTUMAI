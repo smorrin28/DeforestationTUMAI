{
 "cells": [
  {
   "cell_type": "markdown",
   "id": "e391f932-6df4-423c-8a5e-a555ad45562a",
   "metadata": {},
   "source": [
    "## Clustering"
   ]
  },
  {
   "cell_type": "code",
   "execution_count": null,
   "id": "88f658ec-cf93-461c-9f72-a8bf1f8e207c",
   "metadata": {},
   "outputs": [],
   "source": [
    "!pip install --q skimage"
   ]
  },
  {
   "cell_type": "code",
   "execution_count": 43,
   "id": "9f6dc459-5252-49f2-997c-5127aae19ac3",
   "metadata": {},
   "outputs": [],
   "source": [
    "import torch\n",
    "from skimage.measure import label\n",
    "\n",
    "matrix = torch.tensor([\n",
    "    [1, 0, 0, 1],\n",
    "    [0, 0, 1, 1],\n",
    "    [1, 1, 0, 0],\n",
    "    [0, 0, 0, 1]\n",
    "], dtype=torch.int)"
   ]
  },
  {
   "cell_type": "code",
   "execution_count": 44,
   "id": "32a9a777-e5a8-4692-9352-55c7b433fd07",
   "metadata": {},
   "outputs": [],
   "source": [
    "matrix = 1 - matrix"
   ]
  },
  {
   "cell_type": "code",
   "execution_count": 45,
   "id": "50dfda49-646d-488a-bb82-ca258a50a158",
   "metadata": {},
   "outputs": [
    {
     "data": {
      "text/plain": [
       "(1, tensor([9]))"
      ]
     },
     "execution_count": 45,
     "metadata": {},
     "output_type": "execute_result"
    }
   ],
   "source": [
    "lmatrix, nc = label(matrix.numpy(), connectivity=2, return_num=True)\n",
    "\n",
    "c_sizes = torch.bincount(torch.tensor(lmatrix.flatten()))\n",
    "c_sizes = c_sizes[1:]  # Exclude background label (0)\n",
    "nc = len(c_sizes)\n",
    "nc, c_sizes"
   ]
  },
  {
   "cell_type": "markdown",
   "id": "abfa0975-876f-4def-85b1-452327b84e44",
   "metadata": {},
   "source": [
    "## Loading the model"
   ]
  },
  {
   "cell_type": "code",
   "execution_count": 19,
   "id": "e50c8634-0cf2-42e7-8888-22518984b599",
   "metadata": {},
   "outputs": [],
   "source": [
    "from fastai.vision.all import *"
   ]
  },
  {
   "cell_type": "code",
   "execution_count": 16,
   "id": "fc986d60-b5a8-41e3-ad4a-e21a6da4d004",
   "metadata": {},
   "outputs": [],
   "source": [
    "models_path = Path.cwd() / \"models\""
   ]
  },
  {
   "cell_type": "code",
   "execution_count": 20,
   "id": "fa954848-8f8c-40f5-992b-8d4a32d317cf",
   "metadata": {},
   "outputs": [],
   "source": [
    "def label_func(path):\n",
    "    fname = path.name\n",
    "    img_id = str(fname.split(\"_sat\")[0])\n",
    "    return path.parent / (img_id + \"_mask_pre_binary.png\")"
   ]
  },
  {
   "cell_type": "code",
   "execution_count": 21,
   "id": "5da733b7-2b1a-4c74-9261-b3d875f62c75",
   "metadata": {},
   "outputs": [],
   "source": [
    "binary_unet = load_learner(models_path / \"binary_unet_convnext_focal_256px_10e_bs8_gac_aug.pkl\")"
   ]
  },
  {
   "cell_type": "markdown",
   "id": "9bb473cc-91df-44c6-bf56-6d1b0ac067ba",
   "metadata": {},
   "source": [
    "## Creating a function to easily get the predictions for a file"
   ]
  },
  {
   "cell_type": "code",
   "execution_count": 22,
   "id": "c91853fd-0306-4d4c-84f8-26fec83fdc33",
   "metadata": {},
   "outputs": [],
   "source": [
    "from dataclasses import dataclass\n",
    "\n",
    "@dataclass\n",
    "class BinarySegmentationPrediction:\n",
    "    mask: torch.Tensor\n",
    "    probabilities: torch.Tensor\n",
    "\n",
    "\n",
    "def binary_segmentation(path):\n",
    "    _, pred, pred_proba = binary_unet.predict(path)\n",
    "    return BinarySegmentationPrediction(\n",
    "        pred,\n",
    "        pred_proba[1]\n",
    "    )"
   ]
  },
  {
   "cell_type": "code",
   "execution_count": 26,
   "id": "8674b81e-74d4-43cc-9856-a66e81023256",
   "metadata": {},
   "outputs": [
    {
     "data": {
      "text/html": [],
      "text/plain": [
       "<IPython.core.display.HTML object>"
      ]
     },
     "metadata": {},
     "output_type": "display_data"
    },
    {
     "name": "stderr",
     "output_type": "stream",
     "text": [
      "/Users/smorrin/anaconda3/lib/python3.11/site-packages/fastai/metrics.py:373: RuntimeWarning: Mean of empty slice\n",
      "  return np.nanmean(binary_dice_scores)\n",
      "/Users/smorrin/anaconda3/lib/python3.11/site-packages/fastai/metrics.py:390: RuntimeWarning: Mean of empty slice\n",
      "  return np.nanmean(binary_jaccard_scores)\n"
     ]
    }
   ],
   "source": [
    "prediction = binary_segmentation(\n",
    "    Path.cwd() / \"segmentation_preprocessed\" / \"test\" / \"668404_sat.jpg\"\n",
    ")"
   ]
  },
  {
   "cell_type": "markdown",
   "id": "ec2ae480-8e09-4484-a0c2-97274e721f0d",
   "metadata": {},
   "source": [
    "## Showing the prediction"
   ]
  },
  {
   "cell_type": "code",
   "execution_count": 32,
   "id": "6a7dc3c7-9a42-4ba9-a4f7-4c87672159b7",
   "metadata": {},
   "outputs": [],
   "source": [
    "from torchvision.transforms.functional import to_pil_image\n",
    "\n",
    "def show_prediction(prediction: BinarySegmentationPrediction):\n",
    "    return to_pil_image(prediction.mask.float())"
   ]
  },
  {
   "cell_type": "code",
   "execution_count": 34,
   "id": "206562f8-5220-42f2-a72f-ddd929a84837",
   "metadata": {},
   "outputs": [
    {
     "data": {
      "image/jpeg": "[encoded data removed]",
      "image/png": "[encoded data removed]",
      "text/plain": [
       "<PIL.Image.Image image mode=L size=256x256>"
      ]
     },
     "execution_count": 34,
     "metadata": {},
     "output_type": "execute_result"
    }
   ],
   "source": [
    "show_prediction(prediction)"
   ]
  },
  {
   "cell_type": "markdown",
   "id": "5f875178-28bc-4861-b405-34e2dc6d50fa",
   "metadata": {},
   "source": [
    "## Doing the clustering"
   ]
  },
  {
   "cell_type": "code",
   "execution_count": 39,
   "id": "051f6f78-7df7-422f-8d9e-8e34e6b56545",
   "metadata": {},
   "outputs": [
    {
     "data": {
      "text/plain": [
       "TensorBase([[1, 1, 1,  ..., 1, 1, 1],\n",
       "            [1, 1, 1,  ..., 1, 1, 1],\n",
       "            [1, 1, 1,  ..., 1, 1, 1],\n",
       "            ...,\n",
       "            [1, 1, 1,  ..., 1, 1, 1],\n",
       "            [1, 1, 1,  ..., 1, 1, 1],\n",
       "            [1, 1, 1,  ..., 1, 1, 1]])"
      ]
     },
     "execution_count": 39,
     "metadata": {},
     "output_type": "execute_result"
    }
   ],
   "source": [
    "pred_matrix = prediction.mask\n",
    "pred_matrix"
   ]
  },
  {
   "cell_type": "code",
   "execution_count": 46,
   "id": "b55f8912-6af5-4a37-b083-78f641f5bbe8",
   "metadata": {},
   "outputs": [
    {
     "data": {
      "text/plain": [
       "(1, tensor([64310]))"
      ]
     },
     "execution_count": 46,
     "metadata": {},
     "output_type": "execute_result"
    }
   ],
   "source": [
    "lmatrix, nc = label(pred_matrix.numpy(), connectivity=2, return_num=True)\n",
    "\n",
    "c_sizes = torch.bincount(torch.tensor(lmatrix.flatten()))\n",
    "c_sizes = c_sizes[1:]  # Exclude background label (0)\n",
    "nc = len(c_sizes)\n",
    "nc, c_sizes"
   ]
  },
  {
   "cell_type": "code",
   "execution_count": 47,
   "id": "9cadf5dc-40bd-4408-9bf3-2b9f607bd58e",
   "metadata": {},
   "outputs": [
    {
     "data": {
      "text/plain": [
       "tensor(0.9813)"
      ]
     },
     "execution_count": 47,
     "metadata": {},
     "output_type": "execute_result"
    }
   ],
   "source": [
    "c_sizes.sum() / (256 * 256)"
   ]
  },
  {
   "cell_type": "code",
   "execution_count": null,
   "id": "83e0bf35-5bf8-4b1c-8349-4575d5a008dd",
   "metadata": {},
   "outputs": [],
   "source": [
    "PILImage.create(Path.cwd() / \"segmentation_preprocessed\" / \"test\" / \"668404_sat.jpg\")"
   ]
  },
  {
   "cell_type": "code",
   "execution_count": null,
   "id": "e91fb4f0-905d-4b31-89ab-091adf2eb666",
   "metadata": {},
   "outputs": [],
   "source": []
  }
 ],
 "metadata": {
  "kernelspec": {
   "display_name": "Python 3 (ipykernel)",
   "language": "python",
   "name": "python3"
  },
  "language_info": {
   "codemirror_mode": {
    "name": "ipython",
    "version": 3
   },
   "file_extension": ".py",
   "mimetype": "text/x-python",
   "name": "python",
   "nbconvert_exporter": "python",
   "pygments_lexer": "ipython3",
   "version": "3.11.5"
  }
 },
 "nbformat": 4,
 "nbformat_minor": 5
}
