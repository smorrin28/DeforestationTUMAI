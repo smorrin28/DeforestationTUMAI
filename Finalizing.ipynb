{
 "cells": [
  {
   "cell_type": "markdown",
   "id": "03e28827-f425-41e6-be7c-9f53be6efc96",
   "metadata": {},
   "source": [
    "# Putting everything togehter\n",
    "\n",
    "In this notebook we put everything together to create the segmentations masks from both models as well as using these masks to get further insight.  "
   ]
  },
  {
   "cell_type": "markdown",
   "id": "e391f932-6df4-423c-8a5e-a555ad45562a",
   "metadata": {},
   "source": [
    "## Clustering"
   ]
  },
  {
   "cell_type": "markdown",
   "id": "164b4529-c1ef-4651-a2f2-bdb3d1dc8d83",
   "metadata": {},
   "source": [
    "We wanted to look at \"clusters\" of deforestation events in our binary mask (the mask that contains all zeros for every pixels that's part of a deforestation event) to look at the size of each deforestation event and gain insight into their distribution and composition. The following code snippets were used to test our approach for the clustering."
   ]
  },
  {
   "cell_type": "code",
   "execution_count": 101,
   "id": "88f658ec-cf93-461c-9f72-a8bf1f8e207c",
   "metadata": {},
   "outputs": [],
   "source": [
    "!pip install --q scikit-image"
   ]
  },
  {
   "cell_type": "code",
   "execution_count": 2,
   "id": "9f6dc459-5252-49f2-997c-5127aae19ac3",
   "metadata": {},
   "outputs": [],
   "source": [
    "import torch\n",
    "from skimage.measure import label\n",
    "\n",
    "matrix = torch.tensor([\n",
    "    [1, 0, 0, 1],\n",
    "    [0, 0, 1, 1],\n",
    "    [1, 1, 0, 0],\n",
    "    [0, 0, 0, 1]\n",
    "], dtype=torch.int)"
   ]
  },
  {
   "cell_type": "code",
   "execution_count": 3,
   "id": "32a9a777-e5a8-4692-9352-55c7b433fd07",
   "metadata": {},
   "outputs": [],
   "source": [
    "matrix = 1 - matrix"
   ]
  },
  {
   "cell_type": "code",
   "execution_count": 4,
   "id": "50dfda49-646d-488a-bb82-ca258a50a158",
   "metadata": {},
   "outputs": [
    {
     "data": {
      "text/plain": [
       "(1, tensor([9]))"
      ]
     },
     "execution_count": 4,
     "metadata": {},
     "output_type": "execute_result"
    }
   ],
   "source": [
    "lmatrix, nc = label(matrix.numpy(), connectivity=2, return_num=True)\n",
    "\n",
    "c_sizes = torch.bincount(torch.tensor(lmatrix.flatten()))\n",
    "c_sizes = c_sizes[1:]  # Exclude background label (0)\n",
    "nc = len(c_sizes)\n",
    "nc, c_sizes"
   ]
  },
  {
   "cell_type": "markdown",
   "id": "abfa0975-876f-4def-85b1-452327b84e44",
   "metadata": {},
   "source": [
    "## Loading the model"
   ]
  },
  {
   "cell_type": "markdown",
   "id": "7d66a7a7-06a8-429a-8bbc-fcf46e18e288",
   "metadata": {},
   "source": [
    "After that, we loaded the binary segmentation model to write some convenience functions to quickly get a prediction from a filename as well as displaying the masks."
   ]
  },
  {
   "cell_type": "code",
   "execution_count": 102,
   "id": "e50c8634-0cf2-42e7-8888-22518984b599",
   "metadata": {},
   "outputs": [],
   "source": [
    "from fastai.vision.all import *"
   ]
  },
  {
   "cell_type": "code",
   "execution_count": 6,
   "id": "fc986d60-b5a8-41e3-ad4a-e21a6da4d004",
   "metadata": {},
   "outputs": [],
   "source": [
    "models_path = Path.cwd() / \"models\""
   ]
  },
  {
   "cell_type": "code",
   "execution_count": 7,
   "id": "fa954848-8f8c-40f5-992b-8d4a32d317cf",
   "metadata": {},
   "outputs": [],
   "source": [
    "def label_func(path):\n",
    "    fname = path.name\n",
    "    img_id = str(fname.split(\"_sat\")[0])\n",
    "    return path.parent / (img_id + \"_mask_pre_binary.png\")"
   ]
  },
  {
   "cell_type": "code",
   "execution_count": 8,
   "id": "5da733b7-2b1a-4c74-9261-b3d875f62c75",
   "metadata": {},
   "outputs": [],
   "source": [
    "binary_unet = load_learner(models_path / \"binary_unet_convnext_focal_256px_10e_bs8_gac_aug.pkl\")"
   ]
  },
  {
   "cell_type": "markdown",
   "id": "9bb473cc-91df-44c6-bf56-6d1b0ac067ba",
   "metadata": {},
   "source": [
    "## Creating a function to easily get the predictions for a file"
   ]
  },
  {
   "cell_type": "code",
   "execution_count": 9,
   "id": "c91853fd-0306-4d4c-84f8-26fec83fdc33",
   "metadata": {},
   "outputs": [],
   "source": [
    "from dataclasses import dataclass\n",
    "\n",
    "@dataclass\n",
    "class BinarySegmentationPrediction:\n",
    "    mask: torch.Tensor\n",
    "    probabilities: torch.Tensor\n",
    "\n",
    "\n",
    "def binary_segmentation(path):\n",
    "    _, pred, pred_proba = binary_unet.predict(path)\n",
    "    return BinarySegmentationPrediction(\n",
    "        pred,\n",
    "        pred_proba[1]\n",
    "    )"
   ]
  },
  {
   "cell_type": "code",
   "execution_count": 103,
   "id": "8674b81e-74d4-43cc-9856-a66e81023256",
   "metadata": {},
   "outputs": [
    {
     "data": {
      "text/html": [],
      "text/plain": [
       "<IPython.core.display.HTML object>"
      ]
     },
     "metadata": {},
     "output_type": "display_data"
    },
    {
     "name": "stderr",
     "output_type": "stream",
     "text": [
      "/Users/smorrin/anaconda3/lib/python3.11/site-packages/fastai/metrics.py:373: RuntimeWarning: Mean of empty slice\n",
      "  return np.nanmean(binary_dice_scores)\n",
      "/Users/smorrin/anaconda3/lib/python3.11/site-packages/fastai/metrics.py:390: RuntimeWarning: Mean of empty slice\n",
      "  return np.nanmean(binary_jaccard_scores)\n"
     ]
    }
   ],
   "source": [
    "prediction = binary_segmentation(\n",
    "    Path.cwd() / \"segmentation_preprocessed\" / \"test\" / \"287212_sat.jpg\"\n",
    ")"
   ]
  },
  {
   "cell_type": "markdown",
   "id": "ec2ae480-8e09-4484-a0c2-97274e721f0d",
   "metadata": {},
   "source": [
    "## Showing the prediction"
   ]
  },
  {
   "cell_type": "code",
   "execution_count": 104,
   "id": "6a7dc3c7-9a42-4ba9-a4f7-4c87672159b7",
   "metadata": {},
   "outputs": [],
   "source": [
    "from torchvision.transforms.functional import to_pil_image\n",
    "\n",
    "def show_prediction(prediction: BinarySegmentationPrediction):\n",
    "    return to_pil_image(prediction.mask.float())"
   ]
  },
  {
   "cell_type": "code",
   "execution_count": 95,
   "id": "206562f8-5220-42f2-a72f-ddd929a84837",
   "metadata": {},
   "outputs": [
    {
     "data": {
      "image/jpeg": "[encoded data removed]",
      "image/png": "[encoded data removed]",
      "text/plain": [
       "<PIL.Image.Image image mode=L size=256x256>"
      ]
     },
     "execution_count": 95,
     "metadata": {},
     "output_type": "execute_result"
    }
   ],
   "source": [
    "show_prediction(prediction)"
   ]
  },
  {
   "cell_type": "markdown",
   "id": "5f875178-28bc-4861-b405-34e2dc6d50fa",
   "metadata": {},
   "source": [
    "## Doing the clustering"
   ]
  },
  {
   "cell_type": "markdown",
   "id": "95cb212d-24b2-4ed4-8403-e4440e6917d8",
   "metadata": {},
   "source": [
    "This part contains the cluster analysis on the predicted mask. Since the mask contains zeros for deforestation events but our approach requires them to be ones, we have to invert the matrix first."
   ]
  },
  {
   "cell_type": "code",
   "execution_count": 105,
   "id": "051f6f78-7df7-422f-8d9e-8e34e6b56545",
   "metadata": {},
   "outputs": [
    {
     "data": {
      "text/plain": [
       "TensorBase([[1, 1, 1,  ..., 1, 1, 1],\n",
       "            [1, 1, 1,  ..., 1, 1, 1],\n",
       "            [1, 1, 1,  ..., 1, 1, 1],\n",
       "            ...,\n",
       "            [1, 0, 0,  ..., 0, 0, 0],\n",
       "            [1, 0, 0,  ..., 0, 0, 0],\n",
       "            [1, 1, 1,  ..., 0, 0, 0]])"
      ]
     },
     "execution_count": 105,
     "metadata": {},
     "output_type": "execute_result"
    }
   ],
   "source": [
    "pred_matrix = 1 - prediction.mask\n",
    "pred_matrix"
   ]
  },
  {
   "cell_type": "code",
   "execution_count": 106,
   "id": "b55f8912-6af5-4a37-b083-78f641f5bbe8",
   "metadata": {},
   "outputs": [
    {
     "data": {
      "text/plain": [
       "(17,\n",
       " tensor([42087,    59,    12,    15,    73,     1,    67,    34,     5,     1,\n",
       "             1,   447,    72,    15,    12,     9,     3]))"
      ]
     },
     "execution_count": 106,
     "metadata": {},
     "output_type": "execute_result"
    }
   ],
   "source": [
    "lmatrix, nc = label(pred_matrix.numpy(), connectivity=2, return_num=True)\n",
    "\n",
    "c_sizes = torch.bincount(torch.tensor(lmatrix.flatten()))\n",
    "c_sizes = c_sizes[1:]\n",
    "nc = len(c_sizes)\n",
    "nc, c_sizes"
   ]
  },
  {
   "cell_type": "markdown",
   "id": "722a50d0-d5f6-47e6-a8d2-35f462072cf0",
   "metadata": {},
   "source": [
    "Now that we have all clusters and their respective sizes, we'll look at:\n",
    "- how much of the image is part of a deforestation event\n",
    "- how big is the average cluster (mean & median)\n",
    "- what is the standard deviation of the clusters - are there any clusters that are particularily bigger than others?"
   ]
  },
  {
   "cell_type": "code",
   "execution_count": 112,
   "id": "9cadf5dc-40bd-4408-9bf3-2b9f607bd58e",
   "metadata": {},
   "outputs": [
    {
     "data": {
      "text/plain": [
       "tensor(0.6548)"
      ]
     },
     "execution_count": 112,
     "metadata": {},
     "output_type": "execute_result"
    }
   ],
   "source": [
    "c_sizes.sum() / (256 * 256)"
   ]
  },
  {
   "cell_type": "code",
   "execution_count": 113,
   "id": "3aa4fd8e-fd8f-4a32-a70b-accb1d0f0b16",
   "metadata": {},
   "outputs": [
    {
     "data": {
      "text/plain": [
       "tensor(2524.2942)"
      ]
     },
     "execution_count": 113,
     "metadata": {},
     "output_type": "execute_result"
    }
   ],
   "source": [
    "c_sizes.float().mean()"
   ]
  },
  {
   "cell_type": "code",
   "execution_count": 114,
   "id": "308a80dd-7b90-4685-a319-42547fde09b6",
   "metadata": {},
   "outputs": [
    {
     "data": {
      "text/plain": [
       "tensor(15.)"
      ]
     },
     "execution_count": 114,
     "metadata": {},
     "output_type": "execute_result"
    }
   ],
   "source": [
    "c_sizes.float().median()"
   ]
  },
  {
   "cell_type": "code",
   "execution_count": 115,
   "id": "89f3d446-babf-4e33-b615-352baaa4296b",
   "metadata": {},
   "outputs": [
    {
     "data": {
      "text/plain": [
       "tensor(10195.6201)"
      ]
     },
     "execution_count": 115,
     "metadata": {},
     "output_type": "execute_result"
    }
   ],
   "source": [
    "c_sizes.float().std()"
   ]
  },
  {
   "cell_type": "markdown",
   "id": "b2a698ff-8f12-4607-9c4b-8f6daa3b6be5",
   "metadata": {},
   "source": [
    "## Loading the convnext unet"
   ]
  },
  {
   "cell_type": "markdown",
   "id": "1e869f6a-baf2-4f29-a14a-a670751ee276",
   "metadata": {},
   "source": [
    "After taking a look at the binary segmentation data, we loaded our multiclass unet segmentation model to determinte the exact type of deforestation event. As with the binary segmentation model, we wrote some convenience functions for that."
   ]
  },
  {
   "cell_type": "code",
   "execution_count": 75,
   "id": "549ace2a-8377-42b1-acfb-680291afed45",
   "metadata": {},
   "outputs": [],
   "source": [
    "unet = load_learner(models_path / \"convnext_large_256px_8bs_68ds.pkl\")"
   ]
  },
  {
   "cell_type": "code",
   "execution_count": 59,
   "id": "170ff312-b1c6-4741-8cd5-9b2fc882abe3",
   "metadata": {},
   "outputs": [],
   "source": [
    "classes = [\n",
    "    \"urban_land\",\n",
    "    \"agriculture_land\",\n",
    "    \"rangeland\",\n",
    "    \"forest_land\",\n",
    "    \"water\",\n",
    "    \"barren_land\",\n",
    "    \"unknown\"\n",
    "]"
   ]
  },
  {
   "cell_type": "code",
   "execution_count": 76,
   "id": "5467f986-5368-4aa3-a13a-40490d0cda7c",
   "metadata": {},
   "outputs": [],
   "source": [
    "@dataclass\n",
    "class MultiSegmentationPrediction:\n",
    "    mask: torch.Tensor\n",
    "\n",
    "def get_multisegmentation_prediction(path):\n",
    "    _, preds, _ = unet.predict(path)\n",
    "    return MultiSegmentationPrediction(preds)"
   ]
  },
  {
   "cell_type": "code",
   "execution_count": 116,
   "id": "9e086fb0-ec01-4811-8451-d2b76f0ed3a4",
   "metadata": {},
   "outputs": [
    {
     "data": {
      "text/html": [],
      "text/plain": [
       "<IPython.core.display.HTML object>"
      ]
     },
     "metadata": {},
     "output_type": "display_data"
    }
   ],
   "source": [
    "multi_prediction = get_multisegmentation_prediction(Path.cwd() / \"segmentation_preprocessed\" / \"test\" / \"287212_sat.jpg\")"
   ]
  },
  {
   "cell_type": "code",
   "execution_count": 90,
   "id": "6711382b-5ecb-4765-8148-15844e7c60f0",
   "metadata": {},
   "outputs": [],
   "source": [
    "def show_multisegmentation_prediction(prediction):\n",
    "    # Since there are 6 different classes, we have to divide by 6 here\n",
    "    return to_pil_image(prediction.mask.float() / 6)"
   ]
  },
  {
   "cell_type": "code",
   "execution_count": 117,
   "id": "72a7711c-fae4-4727-b4f0-fdb3ca973fe6",
   "metadata": {},
   "outputs": [
    {
     "data": {
      "image/jpeg": "[encoded data removed]",
      "image/png": "[encoded data removed]",
      "text/plain": [
       "<PIL.Image.Image image mode=L size=256x256>"
      ]
     },
     "execution_count": 117,
     "metadata": {},
     "output_type": "execute_result"
    }
   ],
   "source": [
    "show_multisegmentation_prediction(multi_prediction)"
   ]
  },
  {
   "cell_type": "markdown",
   "id": "419e2946-5c7c-47c3-aa6b-3837b42a9119",
   "metadata": {},
   "source": [
    "## CO2 Evaluation\n",
    "\n",
    "Now that we have both models setup, we want to gain some insight.\n",
    "\n",
    "The first thing we did was to check how the deforestation events impact the CO2 emissions. \n",
    "\n",
    "We did this by calculating the area that the deforestation event covers and multiplying that area by an estimate of carbon emissions per hectar (which was taken from the scientific advisors of the Bundestag).\n",
    "\n",
    "One pixel in the image corresponds to 50cm in real life, which means that one image's area is 1,498176km2 since an image has a size if 2448x2448px.\n",
    "\n",
    "Per hectar, a forest can store ~385t of CO2 equivalent (source: \"Umgerechnet auf Waldflächen entspricht diese Angabe rund 385 t CO2-Äq je ha Wald\" from https://www.bundestag.de/resource/blob/673914/74cf34356739f35d07ba3a0de67fca0d/WD-8-077-19-pdf-data.pdf)"
   ]
  },
  {
   "cell_type": "code",
   "execution_count": 99,
   "id": "ee672e78-7268-48ac-bd88-e9acb8800d47",
   "metadata": {},
   "outputs": [],
   "source": [
    "def get_co2_impact(prediction):\n",
    "    pred_matrix = 1 - prediction.mask\n",
    "    non_forest_part = pred_matrix.flatten().float().mean()\n",
    "    lost_forest_km2 = non_forest_part * 1.498176\n",
    "    return int(100 * lost_forest_km2 * 385)"
   ]
  },
  {
   "cell_type": "code",
   "execution_count": 100,
   "id": "035d4116-4f9d-488d-be47-27d6bd3b4269",
   "metadata": {},
   "outputs": [
    {
     "data": {
      "text/plain": [
       "37768"
      ]
     },
     "execution_count": 100,
     "metadata": {},
     "output_type": "execute_result"
    }
   ],
   "source": [
    "get_co2_impact(prediction)"
   ]
  },
  {
   "cell_type": "markdown",
   "id": "22b3ada3-5264-458b-aa6b-f731f734b42b",
   "metadata": {},
   "source": [
    "Now we have calculated the estimated CO2 impact of this deforestation event (in tons)."
   ]
  },
  {
   "cell_type": "markdown",
   "id": "4ec2c665-30e4-4c35-89f4-4e55de573fb5",
   "metadata": {},
   "source": [
    "Using our multiclass segmentation mask we can gain even more insight into the environmental impact.\n",
    "\n",
    "We divide the deforestation events into multiple classes based on their land use and deduct a very rough estimate of potential emissions from that. \n",
    "\n",
    "The emission classes are high emissions, medium emissions and low emissions.\n",
    "\n",
    "Source for our estimate: https://de.statista.com/statistik/daten/studie/1241046/umfrage/treibhausgasemissionen-in-deutschland-nach-sektor/"
   ]
  },
  {
   "cell_type": "markdown",
   "id": "a55bd31a-bd17-4a1d-94bc-bc80dbede29d",
   "metadata": {},
   "source": [
    "| High emissions | Medium Emissions  | Low emissions |\n",
    "|----------------|-------------------|---------------|\n",
    "| Rangeland      | Agricultural land | Unknown       |\n",
    "| Urban land     |                   | Barren land   |"
   ]
  },
  {
   "cell_type": "code",
   "execution_count": 120,
   "id": "543e496a-7cde-46fd-b897-60d4ebebb769",
   "metadata": {},
   "outputs": [],
   "source": [
    "# Values in the mask\n",
    "high_vals = [2, 0]\n",
    "medium_vals = [1]\n",
    "low_vals = [5, 6]"
   ]
  },
  {
   "cell_type": "code",
   "execution_count": 172,
   "id": "494f060a-68e4-4302-9019-65db8357efda",
   "metadata": {},
   "outputs": [],
   "source": [
    "def get_emissions_per_event(multi_pred, pred_binary):\n",
    "    pred_mask = multi_pred.mask\n",
    "    size = pred_mask.shape[0]\n",
    "    high_cnt = 0\n",
    "    med_cnt = 0\n",
    "    low_cnt = 0\n",
    "    # Somewhat inefficient, but no time :(\n",
    "    for i in range(size):\n",
    "        for j in range(size):\n",
    "            if pred_binary.mask[i][j] == 1: continue\n",
    "            if pred_mask[i][j] in high_vals: high_cnt += 1\n",
    "            elif pred_mask[i][j] in medium_vals: med_cnt += 1\n",
    "            elif pred_mask[i][j] in low_vals: low_cnt += 1\n",
    "    cnt_deforestation_events = (1 - pred_binary.mask).sum().float()\n",
    "    # Since our other model may have missed some deforestation events, we'll classify those as unknown\n",
    "    if (high_cnt + med_cnt + low_cnt) < cnt_deforestation_events:\n",
    "        low_cnt += cnt_deforestation_events - (high_cnt + med_cnt + low_cnt)\n",
    "    return (\n",
    "        high_cnt / cnt_deforestation_events,\n",
    "        med_cnt / cnt_deforestation_events,\n",
    "        low_cnt / cnt_deforestation_events\n",
    "    )"
   ]
  },
  {
   "cell_type": "code",
   "execution_count": 173,
   "id": "e54968d5-b759-45dd-a2f7-4051cb896afb",
   "metadata": {},
   "outputs": [],
   "source": [
    "import matplotlib.pyplot as plt\n",
    "def show_emissions_per_event(multi_pred, binary_pred):\n",
    "    high, med, low = get_emissions_per_event(multi_pred, binary_pred)\n",
    "    plt.xlabel(\"Deforestation events composition (%)\")\n",
    "    plt.ylabel(\"Emission type\") \n",
    "    plt.barh(\n",
    "        [\n",
    "            \"High\",\n",
    "            \"Medium\",\n",
    "            \"Low\"\n",
    "        ], [\n",
    "            high * 100.0, med * 100.0, low * 100.0\n",
    "        ]\n",
    "    )"
   ]
  },
  {
   "cell_type": "code",
   "execution_count": 174,
   "id": "fe1d7b59-c730-4235-b65a-15b451bdcb6f",
   "metadata": {},
   "outputs": [
    {
     "data": {
      "image/png": "[encoded data removed]",
      "text/plain": [
       "<Figure size 640x480 with 1 Axes>"
      ]
     },
     "metadata": {},
     "output_type": "display_data"
    }
   ],
   "source": [
    "show_emissions_per_event(multi_prediction, prediction)"
   ]
  },
  {
   "cell_type": "markdown",
   "id": "2e85e126-e9ea-4022-8386-758e4556f58a",
   "metadata": {},
   "source": [
    "Now we can see that a ~50% of our deforestation events with potentially high impact.  "
   ]
  },
  {
   "cell_type": "code",
   "execution_count": null,
   "id": "4cf0c30d-bf15-45e5-9030-1c08bd7122ca",
   "metadata": {},
   "outputs": [],
   "source": []
  }
 ],
 "metadata": {
  "kernelspec": {
   "display_name": "Python 3 (ipykernel)",
   "language": "python",
   "name": "python3"
  },
  "language_info": {
   "codemirror_mode": {
    "name": "ipython",
    "version": 3
   },
   "file_extension": ".py",
   "mimetype": "text/x-python",
   "name": "python",
   "nbconvert_exporter": "python",
   "pygments_lexer": "ipython3",
   "version": "3.11.5"
  }
 },
 "nbformat": 4,
 "nbformat_minor": 5
}
