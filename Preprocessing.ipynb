{
 "cells": [
  {
   "cell_type": "code",
   "execution_count": 18,
   "id": "e22d129a-4cb7-4c7c-8ee0-354b5c1045a7",
   "metadata": {},
   "outputs": [],
   "source": [
    "from fastai.vision.all import *\n",
    "from torchvision.transforms.functional import pil_to_tensor\n",
    "import torchvision.transforms as T\n",
    "from tqdm import tqdm"
   ]
  },
  {
   "cell_type": "code",
   "execution_count": 19,
   "id": "fe0697b0-956f-465d-a045-3c5f3c26e1e0",
   "metadata": {},
   "outputs": [
    {
     "data": {
      "text/plain": [
       "Path('/Users/smorrin/Coding/AI/DeforestationTUMAI/archive/train')"
      ]
     },
     "execution_count": 19,
     "metadata": {},
     "output_type": "execute_result"
    }
   ],
   "source": [
    "path = Path.cwd()  / \"archive\" / \"train\"; path"
   ]
  },
  {
   "cell_type": "code",
   "execution_count": 20,
   "id": "000492c2-ae1f-4dbf-8579-456fc050dd58",
   "metadata": {},
   "outputs": [],
   "source": [
    "torch_device = \"mps\"\n",
    "replace_codes = tensor([\n",
    "    [0, 255, 255],\n",
    "    [255, 255, 0],\n",
    "    [255, 0, 255],\n",
    "    [0, 255, 0],\n",
    "    [0, 0, 255],\n",
    "    [255, 255, 255],\n",
    "    [0, 0, 0]\n",
    "], dtype=torch.uint8).to(torch_device)\n",
    "\n",
    "\n",
    "def preprocess_image(path):\n",
    "    pil_image = PILImage.create(path)\n",
    "    img_tensor = pil_to_tensor(pil_image).to(torch_device)\n",
    "    img_tensor = img_tensor.permute(1, 2, 0)\n",
    "    for i in range(len(replace_codes)):\n",
    "        replace_vec = replace_codes[i]\n",
    "        bitmatrix = torch.all(img_tensor == replace_vec, dim=2)\n",
    "        img_tensor[bitmatrix] = tensor([i] * 3, dtype=img_tensor.dtype).to(torch_device)\n",
    "    img_tensor = img_tensor.permute(2, 0, 1)\n",
    "    transform = T.ToPILImage()\n",
    "    pil_img = transform(img_tensor)\n",
    "    new_path = path.parent / (str(path.stem) + \"_pre.png\")\n",
    "    pil_img.save(new_path)"
   ]
  },
  {
   "cell_type": "code",
   "execution_count": 21,
   "id": "c3370284-7843-4240-93c6-2836cbc37c38",
   "metadata": {},
   "outputs": [
    {
     "data": {
      "text/plain": [
       "[Path('/Users/smorrin/Coding/AI/DeforestationTUMAI/archive/train/949235_mask.png'),\n",
       " Path('/Users/smorrin/Coding/AI/DeforestationTUMAI/archive/train/439854_mask.png'),\n",
       " Path('/Users/smorrin/Coding/AI/DeforestationTUMAI/archive/train/200561_mask.png'),\n",
       " Path('/Users/smorrin/Coding/AI/DeforestationTUMAI/archive/train/864488_mask.png'),\n",
       " Path('/Users/smorrin/Coding/AI/DeforestationTUMAI/archive/train/276761_mask.png')]"
      ]
     },
     "execution_count": 21,
     "metadata": {},
     "output_type": "execute_result"
    }
   ],
   "source": [
    "mask_fnames = [fn for fn in get_image_files(path) if str(fn).endswith(\"_mask.png\")]; mask_fnames[:5]"
   ]
  },
  {
   "cell_type": "code",
   "execution_count": 22,
   "id": "810368eb-de47-4179-93ce-1c4b549963c8",
   "metadata": {},
   "outputs": [
    {
     "name": "stderr",
     "output_type": "stream",
     "text": [
      "100%|█████████████████████████████████████████| 803/803 [08:46<00:00,  1.52it/s]\n"
     ]
    }
   ],
   "source": [
    "for path in tqdm(mask_fnames):\n",
    "    preprocess_image(path)"
   ]
  },
  {
   "cell_type": "code",
   "execution_count": null,
   "id": "bdae8921-ecde-4dd1-b8a0-78f9f3ac3b9c",
   "metadata": {},
   "outputs": [],
   "source": []
  }
 ],
 "metadata": {
  "kernelspec": {
   "display_name": "Python 3 (ipykernel)",
   "language": "python",
   "name": "python3"
  },
  "language_info": {
   "codemirror_mode": {
    "name": "ipython",
    "version": 3
   },
   "file_extension": ".py",
   "mimetype": "text/x-python",
   "name": "python",
   "nbconvert_exporter": "python",
   "pygments_lexer": "ipython3",
   "version": "3.11.5"
  }
 },
 "nbformat": 4,
 "nbformat_minor": 5
}
