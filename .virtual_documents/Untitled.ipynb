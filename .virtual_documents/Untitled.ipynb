from fastai.vision.all import *


path = untar_data(URLs.CAMVID_TINY)


path.ls()


masks = path / "labels"


masks.ls()


label_fname = masks.ls()[0]


img = PILImage.create(label_fname); img


from torchvision.transforms.functional import pil_to_tensor


pil_to_tensor(img)


path = Path.cwd()  / "archive" / "train"; path


mask_path = path / "949235_mask.png"; mask_path


mask_img = PILImage.create(mask_path)


mask_img


img_tens = pil_to_tensor(mask_img)


img_tens.shape


img_tens.reshape(-1, 2448, 3); img_tens





from skimage.io import imread


imread(mask_img)



