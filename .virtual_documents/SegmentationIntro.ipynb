from fastai.vision.all import *
from fastai.imports import *


path = Path.cwd() / "archive"


md_df = pd.read_csv(path / "metadata.csv")


md_df.head()


class_df = pd.read_csv(path / "class_dict.csv")
class_df.head()


classes = class_df["name"].to_numpy(); classes


def label_func(path):
    fname = path.name
    img_id = str(fname.split("_sat")[0])
    return path.parent / (img_id + "_mask_pre.png")


fnames = get_image_files(path / "train")
fnames = [fn for fn in fnames if fn.name.endswith("_sat.jpg")]
fnames[:5]


dls = SegmentationDataLoaders.from_label_func(
    path,
    bs=8,
    fnames=fnames,
    label_func=label_func,
    codes=classes,
)


dls.show_batch()


learner = unet_learner(dls, resnet18)


learner.fine_tune(5)



