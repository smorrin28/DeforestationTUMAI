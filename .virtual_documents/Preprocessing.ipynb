from fastai.vision.all import *
from torchvision.transforms.functional import pil_to_tensor
import torchvision.transforms as T
from tqdm import tqdm


path = Path.cwd()  / "archive" / "train"; path


torch_device = "mps"
replace_codes = tensor([
    [0, 255, 255],
    [255, 255, 0],
    [255, 0, 255],
    [0, 255, 0],
    [0, 0, 255],
    [255, 255, 255],
    [0, 0, 0]
], dtype=torch.uint8).to(torch_device)


def preprocess_image(path):
    pil_image = PILImage.create(path)
    img_tensor = pil_to_tensor(pil_image).to(torch_device)
    img_tensor = img_tensor.permute(1, 2, 0)
    for i in range(len(replace_codes)):
        replace_vec = replace_codes[i]
        bitmatrix = torch.all(img_tensor == replace_vec, dim=2)
        img_tensor[bitmatrix] = tensor([i] * 3, dtype=img_tensor.dtype).to(torch_device)
    img_tensor = img_tensor.permute(2, 0, 1)
    transform = T.ToPILImage()
    pil_img = transform(img_tensor)
    new_path = path.parent / (str(path.stem) + "_pre.png")
    pil_img.save(new_path)


mask_fnames = [fn for fn in get_image_files(path) if str(fn).endswith("_mask.png")]; mask_fnames[:5]


for path in tqdm(mask_fnames):
    preprocess_image(path)



