from fastai.vision.all import *
from torchvision.transforms.functional import pil_to_tensor
import torchvision.transforms as T


path = Path.cwd()  / "archive" / "train"; path


img_tens.shape


om = pil_to_tensor(img)


om.shape


om[0]


om[1]


om[2]


img_tp = img_tens.permute(1, 2, 0)


img_tp.to("mps")


replace_codes = tensor([
    [0, 255, 255],
    [255, 255, 0],
    [255, 0, 255],
    [0, 255, 0],
    [0, 0, 255],
    [255, 255, 255],
    [0, 0, 0]
], dtype=torch.uint8); replace_codes


for i in range(len(replace_codes)):
    replace_vec = replace_codes[i]
    bitmatrix = torch.all(img_tp == replace_vec, dim=2)
    img_tp[bitmatrix] = tensor([i] * 3, dtype=img_tp.dtype)


img_tp


img_or = img_tp.permute(2, 0, 1)





transform = T.ToPILImage()


img_or_p = transform(img_or)


img_or_p.show()


torch_device = "mps"
transform = T.ToPILImage()


def preprocess_image(path):
    pil_image = PILImage.create(path)
    img_tensor = pil_to_tensor(pil_image).to(torch_device)
    img_tensor = img_tensor.permute(1, 2, 0)
    replace_codes = tensor([
        [0, 255, 255],
        [255, 255, 0],
        [255, 0, 255],
        [0, 255, 0],
        [0, 0, 255],
        [255, 255, 255],
        [0, 0, 0]
    ], dtype=torch.uint8).to(torch_device)
    for i in range(len(replace_codes)):
        replace_vec = replace_codes[i]
        bitmatrix = torch.all(img_tensor == replace_vec, dim=2)
        img_tensor[bitmatrix] = tensor([i] * 3, dtype=img_tensor.dtype).to(torch_device)
    img_tensor = img_tensor.permute(2, 0, 1)
    pil_img = transform(img_tensor)
    return pil_img


img = preprocess_image(mask_path)


img.show()



